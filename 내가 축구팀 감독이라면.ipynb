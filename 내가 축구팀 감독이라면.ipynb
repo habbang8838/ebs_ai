{
 "cells": [
  {
   "cell_type": "markdown",
   "metadata": {},
   "source": [
    "# 데이터 불러오기"
   ]
  },
  {
   "cell_type": "code",
   "execution_count": 1,
   "metadata": {},
   "outputs": [],
   "source": [
    "import pandas as pd"
   ]
  },
  {
   "cell_type": "code",
   "execution_count": 2,
   "metadata": {},
   "outputs": [],
   "source": [
    "fifa2019 = pd.read_csv('fifa2019.csv')"
   ]
  },
  {
   "cell_type": "code",
   "execution_count": 3,
   "metadata": {},
   "outputs": [
    {
     "name": "stdout",
     "output_type": "stream",
     "text": [
      "(18207, 89)\n"
     ]
    }
   ],
   "source": [
    "print(fifa2019.shape)"
   ]
  },
  {
   "cell_type": "code",
   "execution_count": 4,
   "metadata": {},
   "outputs": [
    {
     "name": "stdout",
     "output_type": "stream",
     "text": [
      "<class 'pandas.core.frame.DataFrame'>\n",
      "RangeIndex: 18207 entries, 0 to 18206\n",
      "Data columns (total 89 columns):\n",
      " #   Column                    Non-Null Count  Dtype  \n",
      "---  ------                    --------------  -----  \n",
      " 0   Unnamed: 0                18207 non-null  int64  \n",
      " 1   ID                        18207 non-null  int64  \n",
      " 2   Name                      18207 non-null  object \n",
      " 3   Age                       18207 non-null  int64  \n",
      " 4   Photo                     18207 non-null  object \n",
      " 5   Nationality               18207 non-null  object \n",
      " 6   Flag                      18207 non-null  object \n",
      " 7   Overall                   18207 non-null  int64  \n",
      " 8   Potential                 18207 non-null  int64  \n",
      " 9   Club                      17966 non-null  object \n",
      " 10  Club Logo                 18207 non-null  object \n",
      " 11  Value                     18207 non-null  object \n",
      " 12  Wage                      18207 non-null  object \n",
      " 13  Special                   18207 non-null  int64  \n",
      " 14  Preferred Foot            18159 non-null  object \n",
      " 15  International Reputation  18159 non-null  float64\n",
      " 16  Weak Foot                 18159 non-null  float64\n",
      " 17  Skill Moves               18159 non-null  float64\n",
      " 18  Work Rate                 18159 non-null  object \n",
      " 19  Body Type                 18159 non-null  object \n",
      " 20  Real Face                 18159 non-null  object \n",
      " 21  Position                  18147 non-null  object \n",
      " 22  Jersey Number             18147 non-null  float64\n",
      " 23  Joined                    16654 non-null  object \n",
      " 24  Loaned From               1264 non-null   object \n",
      " 25  Contract Valid Until      17918 non-null  object \n",
      " 26  Height                    18159 non-null  object \n",
      " 27  Weight                    18159 non-null  object \n",
      " 28  LS                        16122 non-null  object \n",
      " 29  ST                        16122 non-null  object \n",
      " 30  RS                        16122 non-null  object \n",
      " 31  LW                        16122 non-null  object \n",
      " 32  LF                        16122 non-null  object \n",
      " 33  CF                        16122 non-null  object \n",
      " 34  RF                        16122 non-null  object \n",
      " 35  RW                        16122 non-null  object \n",
      " 36  LAM                       16122 non-null  object \n",
      " 37  CAM                       16122 non-null  object \n",
      " 38  RAM                       16122 non-null  object \n",
      " 39  LM                        16122 non-null  object \n",
      " 40  LCM                       16122 non-null  object \n",
      " 41  CM                        16122 non-null  object \n",
      " 42  RCM                       16122 non-null  object \n",
      " 43  RM                        16122 non-null  object \n",
      " 44  LWB                       16122 non-null  object \n",
      " 45  LDM                       16122 non-null  object \n",
      " 46  CDM                       16122 non-null  object \n",
      " 47  RDM                       16122 non-null  object \n",
      " 48  RWB                       16122 non-null  object \n",
      " 49  LB                        16122 non-null  object \n",
      " 50  LCB                       16122 non-null  object \n",
      " 51  CB                        16122 non-null  object \n",
      " 52  RCB                       16122 non-null  object \n",
      " 53  RB                        16122 non-null  object \n",
      " 54  Crossing                  18159 non-null  float64\n",
      " 55  Finishing                 18159 non-null  float64\n",
      " 56  HeadingAccuracy           18159 non-null  float64\n",
      " 57  ShortPassing              18159 non-null  float64\n",
      " 58  Volleys                   18159 non-null  float64\n",
      " 59  Dribbling                 18159 non-null  float64\n",
      " 60  Curve                     18159 non-null  float64\n",
      " 61  FKAccuracy                18159 non-null  float64\n",
      " 62  LongPassing               18159 non-null  float64\n",
      " 63  BallControl               18159 non-null  float64\n",
      " 64  Acceleration              18159 non-null  float64\n",
      " 65  SprintSpeed               18159 non-null  float64\n",
      " 66  Agility                   18159 non-null  float64\n",
      " 67  Reactions                 18159 non-null  float64\n",
      " 68  Balance                   18159 non-null  float64\n",
      " 69  ShotPower                 18159 non-null  float64\n",
      " 70  Jumping                   18159 non-null  float64\n",
      " 71  Stamina                   18159 non-null  float64\n",
      " 72  Strength                  18159 non-null  float64\n",
      " 73  LongShots                 18159 non-null  float64\n",
      " 74  Aggression                18159 non-null  float64\n",
      " 75  Interceptions             18159 non-null  float64\n",
      " 76  Positioning               18159 non-null  float64\n",
      " 77  Vision                    18159 non-null  float64\n",
      " 78  Penalties                 18159 non-null  float64\n",
      " 79  Composure                 18159 non-null  float64\n",
      " 80  Marking                   18159 non-null  float64\n",
      " 81  StandingTackle            18159 non-null  float64\n",
      " 82  SlidingTackle             18159 non-null  float64\n",
      " 83  GKDiving                  18159 non-null  float64\n",
      " 84  GKHandling                18159 non-null  float64\n",
      " 85  GKKicking                 18159 non-null  float64\n",
      " 86  GKPositioning             18159 non-null  float64\n",
      " 87  GKReflexes                18159 non-null  float64\n",
      " 88  Release Clause            16643 non-null  object \n",
      "dtypes: float64(38), int64(6), object(45)\n",
      "memory usage: 12.4+ MB\n",
      "None\n"
     ]
    }
   ],
   "source": [
    "print(fifa2019.info())"
   ]
  },
  {
   "cell_type": "markdown",
   "metadata": {},
   "source": [
    "# 데이터 다루기"
   ]
  },
  {
   "cell_type": "code",
   "execution_count": 5,
   "metadata": {},
   "outputs": [
    {
     "name": "stdout",
     "output_type": "stream",
     "text": [
      "Unnamed: 0                                                    14\n",
      "ID                                                        215914\n",
      "Name                                                    N. Kanté\n",
      "Age                                                           27\n",
      "Photo             https://cdn.sofifa.org/players/4/19/215914.png\n",
      "                                       ...                      \n",
      "GKHandling                                                  12.0\n",
      "GKKicking                                                   10.0\n",
      "GKPositioning                                                7.0\n",
      "GKReflexes                                                  10.0\n",
      "Release Clause                                           €121.3M\n",
      "Name: 14, Length: 89, dtype: object\n"
     ]
    }
   ],
   "source": [
    "# 특정 선수의 데이터 검색하기\n",
    "sub1 = fifa2019.loc[14]\n",
    "print(sub1)"
   ]
  },
  {
   "cell_type": "code",
   "execution_count": 6,
   "metadata": {},
   "outputs": [
    {
     "name": "stdout",
     "output_type": "stream",
     "text": [
      "    Unnamed: 0      ID            Name  Age  \\\n",
      "2            2  190871       Neymar Jr   26   \n",
      "3            3  193080          De Gea   27   \n",
      "4            4  192985    K. De Bruyne   27   \n",
      "5            5  183277       E. Hazard   27   \n",
      "6            6  177003       L. Modrić   32   \n",
      "7            7  176580       L. Suárez   31   \n",
      "8            8  155862    Sergio Ramos   32   \n",
      "9            9  200389        J. Oblak   25   \n",
      "10          10  188545  R. Lewandowski   29   \n",
      "11          11  182521        T. Kroos   28   \n",
      "12          12  182493        D. Godín   32   \n",
      "13          13  168542     David Silva   32   \n",
      "14          14  215914        N. Kanté   27   \n",
      "15          15  211110       P. Dybala   24   \n",
      "16          16  202126         H. Kane   24   \n",
      "\n",
      "                                             Photo Nationality  \\\n",
      "2   https://cdn.sofifa.org/players/4/19/190871.png      Brazil   \n",
      "3   https://cdn.sofifa.org/players/4/19/193080.png       Spain   \n",
      "4   https://cdn.sofifa.org/players/4/19/192985.png     Belgium   \n",
      "5   https://cdn.sofifa.org/players/4/19/183277.png     Belgium   \n",
      "6   https://cdn.sofifa.org/players/4/19/177003.png     Croatia   \n",
      "7   https://cdn.sofifa.org/players/4/19/176580.png     Uruguay   \n",
      "8   https://cdn.sofifa.org/players/4/19/155862.png       Spain   \n",
      "9   https://cdn.sofifa.org/players/4/19/200389.png    Slovenia   \n",
      "10  https://cdn.sofifa.org/players/4/19/188545.png      Poland   \n",
      "11  https://cdn.sofifa.org/players/4/19/182521.png     Germany   \n",
      "12  https://cdn.sofifa.org/players/4/19/182493.png     Uruguay   \n",
      "13  https://cdn.sofifa.org/players/4/19/168542.png       Spain   \n",
      "14  https://cdn.sofifa.org/players/4/19/215914.png      France   \n",
      "15  https://cdn.sofifa.org/players/4/19/211110.png   Argentina   \n",
      "16  https://cdn.sofifa.org/players/4/19/202126.png     England   \n",
      "\n",
      "                                   Flag  Overall  Potential  \\\n",
      "2   https://cdn.sofifa.org/flags/54.png       92         93   \n",
      "3   https://cdn.sofifa.org/flags/45.png       91         93   \n",
      "4    https://cdn.sofifa.org/flags/7.png       91         92   \n",
      "5    https://cdn.sofifa.org/flags/7.png       91         91   \n",
      "6   https://cdn.sofifa.org/flags/10.png       91         91   \n",
      "7   https://cdn.sofifa.org/flags/60.png       91         91   \n",
      "8   https://cdn.sofifa.org/flags/45.png       91         91   \n",
      "9   https://cdn.sofifa.org/flags/44.png       90         93   \n",
      "10  https://cdn.sofifa.org/flags/37.png       90         90   \n",
      "11  https://cdn.sofifa.org/flags/21.png       90         90   \n",
      "12  https://cdn.sofifa.org/flags/60.png       90         90   \n",
      "13  https://cdn.sofifa.org/flags/45.png       90         90   \n",
      "14  https://cdn.sofifa.org/flags/18.png       89         90   \n",
      "15  https://cdn.sofifa.org/flags/52.png       89         94   \n",
      "16  https://cdn.sofifa.org/flags/14.png       89         91   \n",
      "\n",
      "                   Club  ... Composure Marking StandingTackle  SlidingTackle  \\\n",
      "2   Paris Saint-Germain  ...      94.0    27.0           24.0           33.0   \n",
      "3     Manchester United  ...      68.0    15.0           21.0           13.0   \n",
      "4       Manchester City  ...      88.0    68.0           58.0           51.0   \n",
      "5               Chelsea  ...      91.0    34.0           27.0           22.0   \n",
      "6           Real Madrid  ...      84.0    60.0           76.0           73.0   \n",
      "7          FC Barcelona  ...      85.0    62.0           45.0           38.0   \n",
      "8           Real Madrid  ...      82.0    87.0           92.0           91.0   \n",
      "9       Atlético Madrid  ...      70.0    27.0           12.0           18.0   \n",
      "10    FC Bayern München  ...      86.0    34.0           42.0           19.0   \n",
      "11          Real Madrid  ...      85.0    72.0           79.0           69.0   \n",
      "12      Atlético Madrid  ...      82.0    90.0           89.0           89.0   \n",
      "13      Manchester City  ...      93.0    59.0           53.0           29.0   \n",
      "14              Chelsea  ...      85.0    90.0           91.0           85.0   \n",
      "15             Juventus  ...      84.0    23.0           20.0           20.0   \n",
      "16    Tottenham Hotspur  ...      89.0    56.0           36.0           38.0   \n",
      "\n",
      "   GKDiving  GKHandling  GKKicking  GKPositioning GKReflexes Release Clause  \n",
      "2       9.0         9.0       15.0           15.0       11.0        €228.1M  \n",
      "3      90.0        85.0       87.0           88.0       94.0        €138.6M  \n",
      "4      15.0        13.0        5.0           10.0       13.0        €196.4M  \n",
      "5      11.0        12.0        6.0            8.0        8.0        €172.1M  \n",
      "6      13.0         9.0        7.0           14.0        9.0        €137.4M  \n",
      "7      27.0        25.0       31.0           33.0       37.0          €164M  \n",
      "8      11.0         8.0        9.0            7.0       11.0        €104.6M  \n",
      "9      86.0        92.0       78.0           88.0       89.0        €144.5M  \n",
      "10     15.0         6.0       12.0            8.0       10.0        €127.1M  \n",
      "11     10.0        11.0       13.0            7.0       10.0        €156.8M  \n",
      "12      6.0         8.0       15.0            5.0       15.0         €90.2M  \n",
      "13      6.0        15.0        7.0            6.0       12.0          €111M  \n",
      "14     15.0        12.0       10.0            7.0       10.0        €121.3M  \n",
      "15      5.0         4.0        4.0            5.0        8.0        €153.5M  \n",
      "16      8.0        10.0       11.0           14.0       11.0        €160.7M  \n",
      "\n",
      "[15 rows x 89 columns]\n"
     ]
    }
   ],
   "source": [
    "# 원하는 범위의 데이터 검색하기\n",
    "sub2 = fifa2019.loc[2:16]\n",
    "print(sub2)"
   ]
  },
  {
   "cell_type": "code",
   "execution_count": 7,
   "metadata": {},
   "outputs": [
    {
     "name": "stdout",
     "output_type": "stream",
     "text": [
      "                     Name Preferred Foot\n",
      "0                L. Messi           Left\n",
      "1       Cristiano Ronaldo          Right\n",
      "2               Neymar Jr          Right\n",
      "3                  De Gea          Right\n",
      "4            K. De Bruyne          Right\n",
      "...                   ...            ...\n",
      "18202        J. Lundstram          Right\n",
      "18203  N. Christoffersson          Right\n",
      "18204           B. Worman          Right\n",
      "18205      D. Walker-Rice          Right\n",
      "18206           G. Nugent          Right\n",
      "\n",
      "[18207 rows x 2 columns]\n"
     ]
    }
   ],
   "source": [
    "# 전체 선수들의 이름과 선호하는 발 정보 출력하기\n",
    "sub3 = fifa2019.loc[:, ['Name','Preferred Foot']]\n",
    "print(sub3)"
   ]
  },
  {
   "cell_type": "code",
   "execution_count": 8,
   "metadata": {},
   "outputs": [
    {
     "name": "stdout",
     "output_type": "stream",
     "text": [
      "       ID               Name\n",
      "0  158023           L. Messi\n",
      "1   20801  Cristiano Ronaldo\n",
      "2  190871          Neymar Jr\n",
      "3  193080             De Gea\n",
      "4  192985       K. De Bruyne\n",
      "5  183277          E. Hazard\n",
      "6  177003          L. Modrić\n",
      "7  176580          L. Suárez\n",
      "8  155862       Sergio Ramos\n",
      "9  200389           J. Oblak\n"
     ]
    }
   ],
   "source": [
    "# 여러 행의 데이터 중 원하는 열 값만 골라 출력하기\n",
    "sub4 = fifa2019.iloc[0:10, 1:3]\n",
    "print(sub4)"
   ]
  },
  {
   "cell_type": "code",
   "execution_count": 9,
   "metadata": {},
   "outputs": [],
   "source": [
    "# 우리나라 선수들 출력하기\n",
    "korea_player = fifa2019['Nationality'] == 'Korea Republic'\n",
    "sub5 = fifa2019.loc[korea_player]"
   ]
  },
  {
   "cell_type": "code",
   "execution_count": 11,
   "metadata": {},
   "outputs": [
    {
     "name": "stdout",
     "output_type": "stream",
     "text": [
      "       Unnamed: 0      ID             Name  Age  \\\n",
      "125           125  200104           H. Son   25   \n",
      "1295         1295  180283    Ki Sung Yueng   29   \n",
      "1407         1407  182152     Koo Ja Cheol   29   \n",
      "2002         2002  211927  Kwon Chang Hoon   24   \n",
      "2021         2021  221671     Lee Jae Sung   25   \n",
      "...           ...     ...              ...  ...   \n",
      "17955       17955  240272   Min Gyeong Min   22   \n",
      "17959       17959  245401     Lee Dong Hee   21   \n",
      "17965       17965  243359     Kim Jong Jin   19   \n",
      "18058       18058  244108  Hong Hyeon Seok   19   \n",
      "18084       18084  244411      Kwon Ki Pyo   21   \n",
      "\n",
      "                                                Photo     Nationality  \\\n",
      "125    https://cdn.sofifa.org/players/4/19/200104.png  Korea Republic   \n",
      "1295   https://cdn.sofifa.org/players/4/19/180283.png  Korea Republic   \n",
      "1407   https://cdn.sofifa.org/players/4/19/182152.png  Korea Republic   \n",
      "2002   https://cdn.sofifa.org/players/4/19/211927.png  Korea Republic   \n",
      "2021   https://cdn.sofifa.org/players/4/19/221671.png  Korea Republic   \n",
      "...                                               ...             ...   \n",
      "17955  https://cdn.sofifa.org/players/4/19/240272.png  Korea Republic   \n",
      "17959  https://cdn.sofifa.org/players/4/19/245401.png  Korea Republic   \n",
      "17965  https://cdn.sofifa.org/players/4/19/243359.png  Korea Republic   \n",
      "18058  https://cdn.sofifa.org/players/4/19/244108.png  Korea Republic   \n",
      "18084  https://cdn.sofifa.org/players/4/19/244411.png  Korea Republic   \n",
      "\n",
      "                                       Flag  Overall  Potential  \\\n",
      "125    https://cdn.sofifa.org/flags/167.png       84         85   \n",
      "1295   https://cdn.sofifa.org/flags/167.png       76         76   \n",
      "1407   https://cdn.sofifa.org/flags/167.png       76         76   \n",
      "2002   https://cdn.sofifa.org/flags/167.png       75         79   \n",
      "2021   https://cdn.sofifa.org/flags/167.png       75         78   \n",
      "...                                     ...      ...        ...   \n",
      "17955  https://cdn.sofifa.org/flags/167.png       51         59   \n",
      "17959  https://cdn.sofifa.org/flags/167.png       51         57   \n",
      "17965  https://cdn.sofifa.org/flags/167.png       51         64   \n",
      "18058  https://cdn.sofifa.org/flags/167.png       50         63   \n",
      "18084  https://cdn.sofifa.org/flags/167.png       50         59   \n",
      "\n",
      "                     Club  ... Composure Marking StandingTackle  \\\n",
      "125     Tottenham Hotspur  ...      82.0    48.0           34.0   \n",
      "1295     Newcastle United  ...      81.0    60.0           70.0   \n",
      "1407          FC Augsburg  ...      69.0    57.0           61.0   \n",
      "2002            Dijon FCO  ...      76.0    41.0           54.0   \n",
      "2021        Holstein Kiel  ...      79.0    49.0           54.0   \n",
      "...                   ...  ...       ...     ...            ...   \n",
      "17955            Daegu FC  ...      43.0    41.0           36.0   \n",
      "17959      Jeju United FC  ...      55.0    35.0           45.0   \n",
      "17965        Gyeongnam FC  ...      62.0    27.0           45.0   \n",
      "18058  SpVgg Unterhaching  ...      38.0    47.0           36.0   \n",
      "18084     Pohang Steelers  ...      47.0    46.0           17.0   \n",
      "\n",
      "       SlidingTackle GKDiving  GKHandling  GKKicking  GKPositioning  \\\n",
      "125             33.0     11.0        13.0       13.0            6.0   \n",
      "1295            71.0     14.0         9.0        7.0            9.0   \n",
      "1407            48.0     11.0        14.0       10.0           15.0   \n",
      "2002            53.0      7.0        16.0        9.0            8.0   \n",
      "2021            50.0     14.0         7.0       15.0            6.0   \n",
      "...              ...      ...         ...        ...            ...   \n",
      "17955           49.0     15.0         6.0        9.0            8.0   \n",
      "17959           45.0      9.0        12.0        7.0            5.0   \n",
      "17965           38.0     15.0        10.0       14.0           14.0   \n",
      "18058           39.0     13.0         9.0        7.0           13.0   \n",
      "18084           14.0     13.0         7.0       14.0           12.0   \n",
      "\n",
      "      GKReflexes Release Clause  \n",
      "125         10.0         €71.2M  \n",
      "1295        10.0         €14.3M  \n",
      "1407         9.0         €12.8M  \n",
      "2002         8.0         €17.6M  \n",
      "2021         8.0         €13.8M  \n",
      "...          ...            ...  \n",
      "17955       12.0           €73K  \n",
      "17959       12.0           €73K  \n",
      "17965       11.0          €131K  \n",
      "18058       10.0          €104K  \n",
      "18084        5.0           €73K  \n",
      "\n",
      "[335 rows x 89 columns]\n"
     ]
    }
   ],
   "source": [
    "print(sub5)"
   ]
  },
  {
   "cell_type": "markdown",
   "metadata": {},
   "source": [
    "# 데이터 시각화하기"
   ]
  },
  {
   "cell_type": "code",
   "execution_count": 12,
   "metadata": {},
   "outputs": [],
   "source": [
    "import matplotlib.pyplot as plt"
   ]
  },
  {
   "cell_type": "code",
   "execution_count": 13,
   "metadata": {},
   "outputs": [
    {
     "data": {
      "text/plain": [
       "<AxesSubplot:>"
      ]
     },
     "execution_count": 13,
     "metadata": {},
     "output_type": "execute_result"
    },
    {
     "data": {
      "image/png": "[encoded data removed]",
      "text/plain": [
       "<Figure size 432x288 with 1 Axes>"
      ]
     },
     "metadata": {
      "needs_background": "light"
     },
     "output_type": "display_data"
    }
   ],
   "source": [
    "fifa2019['Preferred Foot'].value_counts().plot(kind='bar')"
   ]
  },
  {
   "cell_type": "code",
   "execution_count": 19,
   "metadata": {},
   "outputs": [
    {
     "data": {
      "image/png": "[encoded data removed]",
      "text/plain": [
       "<Figure size 432x288 with 1 Axes>"
      ]
     },
     "metadata": {},
     "output_type": "display_data"
    }
   ],
   "source": [
    "fifa2019['Preferred Foot'].value_counts().plot(kind='pie', autopct='%1.f%%')\n",
    "plt.legend()\n",
    "plt.show()"
   ]
  },
  {
   "cell_type": "markdown",
   "metadata": {},
   "source": [
    "# K-평균 군집화 알고리즘을 바탕으로 체력, 드리블 능력 데이터를 상,중,하 3개의 팀으로 나눠보기"
   ]
  },
  {
   "cell_type": "code",
   "execution_count": 21,
   "metadata": {},
   "outputs": [],
   "source": [
    "import pandas as pd\n",
    "fifa2019 = pd.read_csv('fifa2019.csv')"
   ]
  },
  {
   "cell_type": "code",
   "execution_count": 23,
   "metadata": {},
   "outputs": [
    {
     "name": "stdout",
     "output_type": "stream",
     "text": [
      "                Name  Stamina  Dribbling  ShortPassing  Penalties\n",
      "0           L. Messi     72.0       97.0          90.0       75.0\n",
      "1  Cristiano Ronaldo     88.0       88.0          81.0       85.0\n",
      "2          Neymar Jr     81.0       96.0          84.0       81.0\n",
      "3             De Gea     43.0       18.0          50.0       40.0\n",
      "4       K. De Bruyne     90.0       86.0          92.0       79.0\n"
     ]
    }
   ],
   "source": [
    "# 데이터를 불러온 뒤, 전반적인 능력치(Overall)로 정렬\n",
    "df = pd.DataFrame.copy(fifa2019.sort_values(by='Overall', ascending=False).head(200))\n",
    "\n",
    "# 선수마다 가진 특성 중에 우리가 필요한 정보인 이름, 체력, 드리블, 짧은 패스, 패널티킥 특성만 test_features라는 변수에 저장\n",
    "test_features = ['Name', 'Stamina', 'Dribbling', 'ShortPassing', 'Penalties']\n",
    "\n",
    "# df에 test_features라는 특성을 열로 하는 새로운 데이터프레임을 만들어 준다.\n",
    "test_df = pd.DataFrame(df, columns=test_features)\n",
    "\n",
    "print(test_df.head(5))"
   ]
  },
  {
   "cell_type": "code",
   "execution_count": 27,
   "metadata": {},
   "outputs": [],
   "source": [
    "# 학습 데이터 준비하기\n",
    "\n",
    "import numpy as np\n",
    "XY = np.array(test_df)\n",
    "X = XY[:, 1:3]"
   ]
  },
  {
   "cell_type": "code",
   "execution_count": 28,
   "metadata": {},
   "outputs": [
    {
     "name": "stdout",
     "output_type": "stream",
     "text": [
      "[[88. 80.]\n",
      " [78. 90.]\n",
      " [60. 84.]]\n"
     ]
    }
   ],
   "source": [
    "# K - 평균 군집화 알고리즘 적용하기\n",
    "\n",
    "# 표본 공간에서 사용할 중심을 생성하기\n",
    "k = 3\n",
    "C_x = np.random.choice(X[:, 0], k)\n",
    "C_y = np.random.choice(X[:, 1], k)\n",
    "C = np.array(list(zip(C_x, C_y)))\n",
    "print(C)"
   ]
  },
  {
   "cell_type": "code",
   "execution_count": 31,
   "metadata": {},
   "outputs": [
    {
     "data": {
      "image/png": "[encoded data removed]",
      "text/plain": [
       "<Figure size 432x288 with 1 Axes>"
      ]
     },
     "metadata": {
      "needs_background": "light"
     },
     "output_type": "display_data"
    }
   ],
   "source": [
    "# 생성 결과를 시각적으로 표현?? \n",
    "\n",
    "import matplotlib.pyplot as plt\n",
    "Stamina = test_df['Stamina']\n",
    "Dribbling = test_df['Dribbling']\n",
    "plt.title('Stamina&Dribbling')\n",
    "plt.xlabel('Stamina')\n",
    "plt.ylabel('Dribbling')\n",
    "plt.scatter(Stamina, Dribbling, marker='^', c='blue', s=10, label='players')\n",
    "plt.scatter(C_x, C_y, marker='*', c='black', s=200, label='centroids')\n",
    "plt.legend(loc='best')\n",
    "plt.grid()\n",
    "plt.show()"
   ]
  },
  {
   "cell_type": "code",
   "execution_count": 32,
   "metadata": {},
   "outputs": [],
   "source": [
    "# 각 표본에 가까운 중심에 할당하기\n",
    "\n",
    "## 먼저 거리를 추측하는 함수를 만들어보자.\n",
    "\n",
    "def Distance(A,B):\n",
    "    return np.sqrt(np.sum(np.power((A-B),2)))"
   ]
  },
  {
   "cell_type": "code",
   "execution_count": 36,
   "metadata": {},
   "outputs": [
    {
     "name": "stdout",
     "output_type": "stream",
     "text": [
      "[[0. 0.]\n",
      " [0. 0.]\n",
      " [0. 0.]]\n",
      "197.44366285095097\n"
     ]
    }
   ],
   "source": [
    "C_old = np.zeros(C.shape)\n",
    "clusters = np.zeros(len(X))\n",
    "flag = Distance(C, C_old)\n",
    "print(C_old)\n",
    "print(flag)"
   ]
  },
  {
   "cell_type": "code",
   "execution_count": 38,
   "metadata": {},
   "outputs": [],
   "source": [
    "# 각 군집의 중심을 새롭게 계산하기\n",
    "\n",
    "from copy import deepcopy\n",
    "\n",
    "distances = []\n",
    "while flag != 0:\n",
    "    for i in range(len(X)):\n",
    "        for j in range(3):\n",
    "            temp = Distance(X[i], C[j])\n",
    "            distances.append(temp)\n",
    "        cluster = np.argmin(distances)\n",
    "        clusters[i] = cluster\n",
    "        distances = []\n",
    "        \n",
    "    C_old = deepcopy(C)\n",
    "    \n",
    "    for i in range(k):\n",
    "        points = [X[j] for j in range(len(X)) if clusters[j] == i]\n",
    "        C[i] = np.mean(points)\n",
    "                                      \n",
    "    flag = Distance(C, C_old)"
   ]
  },
  {
   "cell_type": "code",
   "execution_count": 43,
   "metadata": {},
   "outputs": [
    {
     "data": {
      "image/png": "[encoded data removed]",
      "text/plain": [
       "<Figure size 432x288 with 1 Axes>"
      ]
     },
     "metadata": {
      "needs_background": "light"
     },
     "output_type": "display_data"
    }
   ],
   "source": [
    "# 문제 해결하기\n",
    "import matplotlib.pyplot as plt\n",
    "\n",
    "plt.scatter(X[clusters == 0 , 0], X[clusters == 0, 1], s=50, c='red', marker='o', edgecolor='black', label='A')\n",
    "plt.scatter(X[clusters == 1 , 0], X[clusters == 1, 1], s=50, c='yellow', marker='x', edgecolor='black', label='B')\n",
    "plt.scatter(X[clusters == 2 , 0], X[clusters == 2, 1], s=50, c='blue', marker='^', edgecolor='black', label='C')\n",
    "\n",
    "plt.scatter(C[:, 0], C[:, 1], s=250, marker='*', c='black', edgecolor='black', label='Centroids')\n",
    "plt.legend()\n",
    "plt.grid()\n",
    "plt.show()"
   ]
  },
  {
   "cell_type": "code",
   "execution_count": null,
   "metadata": {},
   "outputs": [],
   "source": []
  }
 ],
 "metadata": {
  "kernelspec": {
   "display_name": "Python 3",
   "language": "python",
   "name": "python3"
  },
  "language_info": {
   "codemirror_mode": {
    "name": "ipython",
    "version": 3
   },
   "file_extension": ".py",
   "mimetype": "text/x-python",
   "name": "python",
   "nbconvert_exporter": "python",
   "pygments_lexer": "ipython3",
   "version": "3.8.10"
  }
 },
 "nbformat": 4,
 "nbformat_minor": 4
}
